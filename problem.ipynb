{
 "cells": [
  {
   "cell_type": "markdown",
   "id": "5cfd70b8",
   "metadata": {},
   "source": [
    "**Proje Başlığı: Otel Rezervasyon İptallerini Azaltma ve Gelir Optimizasyonu Analizi**\n",
    "\n",
    "**Proje Senaryosu (Business Problem):**\n",
    "\n",
    "\"Horizon Hotels\" adlı, hem şehir merkezlerinde (\"City Hotel\") hem de tatil beldelerinde (\"Resort Hotel\") otelleri bulunan bir otel zincirinin yöneticisisiniz. Şirket, son çeyreklerde özellikle yüksek rezervasyon iptal oranları nedeniyle ciddi bir gelir kaybı ve operasyonel planlama zorlukları yaşamaktadır. İptal edilen odaların son dakikada doldurulamaması, hem doluluk oranlarını düşürmekte hem de gelirleri olumsuz etkilemektedir.\n",
    "\n",
    "Sizden, veri analisti olarak bu sorunun kök nedenlerini anlamak, hangi rezervasyonların iptal edilme olasılığının yüksek olduğunu tahmin etmek ve bu iptalleri azaltmak için veriye dayalı, eyleme geçirilebilir stratejiler geliştirmeniz isteniyor.\n",
    "\n",
    "Projenin Amacı:\n",
    "\n",
    "Bu projenin temel amacı, otel rezervasyon iptallerine yol açan ana faktörleri belirlemek, yüksek riskli rezervasyonları proaktif olarak tespit edebilecek bir model geliştirmek ve iptal oranını düşürerek otel gelirlerini optimize edecek stratejik öneriler sunmaktır."
   ]
  }
 ],
 "metadata": {
  "language_info": {
   "name": "python"
  }
 },
 "nbformat": 4,
 "nbformat_minor": 5
}
